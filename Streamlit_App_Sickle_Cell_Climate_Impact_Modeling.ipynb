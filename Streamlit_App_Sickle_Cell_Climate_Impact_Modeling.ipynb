{
  "nbformat": 4,
  "nbformat_minor": 0,
  "metadata": {
    "colab": {
      "provenance": []
    },
    "kernelspec": {
      "name": "python3",
      "display_name": "Python 3"
    },
    "language_info": {
      "name": "python"
    }
  },
  "cells": [
    {
      "cell_type": "code",
      "source": [
        "import streamlit as st\n",
        "\n",
        "import streamlit.components.v1 as components\n",
        "\n",
        "iframe_code = \"\"\"\n",
        "<iframe title=\"Sickle Cell Climate Risk\"\n",
        "        width=\"1140\"\n",
        "        height=\"541.25\"\n",
        "        src=\"https://app.powerbi.com/view?r=eyJrIjoiNTQyMjcyZjMtYTAyNy00YzhhLWE5YzYtNDE2NDBhZDlkZDI1IiwidCI6ImYxYWU4ZTFmLWIxOTgtNDNlOC1iZjk0LTFmYmZlNTdkMDI2YyJ9\"\n",
        "        frameborder=\"0\"\n",
        "        allowfullscreen>\n",
        "</iframe>\n",
        "\"\"\"\n",
        "\n",
        "components.html(iframe_code, height=550)"
      ],
      "metadata": {
        "id": "ZpcAS2cHTw-3"
      },
      "execution_count": null,
      "outputs": []
    }
  ]
}